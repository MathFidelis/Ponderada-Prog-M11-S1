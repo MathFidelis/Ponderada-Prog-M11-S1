{
  "nbformat": 4,
  "nbformat_minor": 0,
  "metadata": {
    "colab": {
      "provenance": []
    },
    "kernelspec": {
      "name": "python3",
      "display_name": "Python 3"
    },
    "language_info": {
      "name": "python"
    }
  },
  "cells": [
    {
      "cell_type": "markdown",
      "source": [
        "# Classificação Binária com Keras: Abalone Dataset\n",
        "\n",
        "Este notebook realiza a classificação binária no dataset Abalone, utilizando um modelo sequencial simples com Keras. As etapas incluem a carga e preparação dos dados, a construção do modelo, o treinamento e a avaliação do desempenho do modelo.\n",
        "\n",
        "link de onde coletei o dataset: https://www.kaggle.com/code/ryanholbrook/binary-classification/data\n"
      ],
      "metadata": {
        "id": "SgkOBeCwl-Fu"
      }
    },
    {
      "cell_type": "markdown",
      "source": [
        "#Importação das Bibliotecas"
      ],
      "metadata": {
        "id": "V2NNCafGmUyq"
      }
    },
    {
      "cell_type": "code",
      "execution_count": null,
      "metadata": {
        "id": "4uRrB9xHbZJC"
      },
      "outputs": [],
      "source": [
        "# Importação das bibliotecas necessárias\n",
        "from google.colab import drive\n",
        "import pandas as pd\n",
        "from sklearn.model_selection import train_test_split\n",
        "from sklearn.preprocessing import StandardScaler\n",
        "from sklearn.metrics import f1_score, accuracy_score\n",
        "from tensorflow.keras.models import Sequential\n",
        "from tensorflow.keras.layers import Dense\n",
        "from tensorflow.keras.optimizers import Adam"
      ]
    },
    {
      "cell_type": "markdown",
      "source": [
        "Montagem do Google Drive e Carregamento e Visualização do Dataset"
      ],
      "metadata": {
        "id": "zWG832zumeMt"
      }
    },
    {
      "cell_type": "code",
      "source": [
        "# Conectar ao Google Drive\n",
        "drive.mount('/content/drive', force_remount=True)\n",
        "\n",
        "# Caminho do arquivo no Google Drive\n",
        "file_path = '/content/drive/MyDrive/ponderadam11/Copy of abalone.csv'\n",
        "\n",
        "# Carregar o dataset\n",
        "data = pd.read_csv(file_path)\n",
        "\n",
        "# Verificar as primeiras linhas do dataset\n",
        "print(data.head())"
      ],
      "metadata": {
        "colab": {
          "base_uri": "https://localhost:8080/"
        },
        "id": "9RAkXDYviWqL",
        "outputId": "ff0faf63-4da2-4a9a-9f37-03c0f8f9b268"
      },
      "execution_count": null,
      "outputs": [
        {
          "output_type": "stream",
          "name": "stdout",
          "text": [
            "Mounted at /content/drive\n",
            "  Type  LongestShell  Diameter  Height  WholeWeight  ShuckedWeight  \\\n",
            "0    M         0.455     0.365   0.095       0.5140         0.2245   \n",
            "1    M         0.350     0.265   0.090       0.2255         0.0995   \n",
            "2    F         0.530     0.420   0.135       0.6770         0.2565   \n",
            "3    M         0.440     0.365   0.125       0.5160         0.2155   \n",
            "4    I         0.330     0.255   0.080       0.2050         0.0895   \n",
            "\n",
            "   VisceraWeight  ShellWeight  Rings  \n",
            "0         0.1010        0.150     15  \n",
            "1         0.0485        0.070      7  \n",
            "2         0.1415        0.210      9  \n",
            "3         0.1140        0.155     10  \n",
            "4         0.0395        0.055      7  \n"
          ]
        }
      ]
    },
    {
      "cell_type": "markdown",
      "source": [
        "### Conversão de Dados Categóricos e Transformação da Variável Alvo\n",
        "\n",
        "Neste passo, vamos converter a coluna `Type` (que é categórica) para variáveis dummy, e transformar a variável `Rings` em uma variável binária para facilitar a classificação binária.\n"
      ],
      "metadata": {
        "id": "FJ892LqkmY2B"
      }
    },
    {
      "cell_type": "code",
      "source": [
        "# Converter a coluna 'Type' para variáveis dummy (one-hot encoding)\n",
        "data = pd.get_dummies(data, columns=['Type'], drop_first=True)\n",
        "\n",
        "# Transformar 'Rings' em uma variável binária\n",
        "data['Rings'] = (data['Rings'] >= 10).astype(int)\n",
        "\n",
        "# Verificando as primeiras linhas após as transformações\n",
        "data.head()"
      ],
      "metadata": {
        "colab": {
          "base_uri": "https://localhost:8080/",
          "height": 206
        },
        "id": "Qlvg4pCakXJS",
        "outputId": "eb898093-33ea-457c-84cb-b56dc9c63e5e"
      },
      "execution_count": null,
      "outputs": [
        {
          "output_type": "execute_result",
          "data": {
            "text/plain": [
              "   LongestShell  Diameter  Height  WholeWeight  ShuckedWeight  VisceraWeight  \\\n",
              "0         0.455     0.365   0.095       0.5140         0.2245         0.1010   \n",
              "1         0.350     0.265   0.090       0.2255         0.0995         0.0485   \n",
              "2         0.530     0.420   0.135       0.6770         0.2565         0.1415   \n",
              "3         0.440     0.365   0.125       0.5160         0.2155         0.1140   \n",
              "4         0.330     0.255   0.080       0.2050         0.0895         0.0395   \n",
              "\n",
              "   ShellWeight  Rings  Type_I  Type_M  \n",
              "0        0.150      1   False    True  \n",
              "1        0.070      0   False    True  \n",
              "2        0.210      0   False   False  \n",
              "3        0.155      1   False    True  \n",
              "4        0.055      0    True   False  "
            ],
            "text/html": [
              "\n",
              "  <div id=\"df-2bfc907d-29bf-4ee4-9e4e-b815c89cccac\" class=\"colab-df-container\">\n",
              "    <div>\n",
              "<style scoped>\n",
              "    .dataframe tbody tr th:only-of-type {\n",
              "        vertical-align: middle;\n",
              "    }\n",
              "\n",
              "    .dataframe tbody tr th {\n",
              "        vertical-align: top;\n",
              "    }\n",
              "\n",
              "    .dataframe thead th {\n",
              "        text-align: right;\n",
              "    }\n",
              "</style>\n",
              "<table border=\"1\" class=\"dataframe\">\n",
              "  <thead>\n",
              "    <tr style=\"text-align: right;\">\n",
              "      <th></th>\n",
              "      <th>LongestShell</th>\n",
              "      <th>Diameter</th>\n",
              "      <th>Height</th>\n",
              "      <th>WholeWeight</th>\n",
              "      <th>ShuckedWeight</th>\n",
              "      <th>VisceraWeight</th>\n",
              "      <th>ShellWeight</th>\n",
              "      <th>Rings</th>\n",
              "      <th>Type_I</th>\n",
              "      <th>Type_M</th>\n",
              "    </tr>\n",
              "  </thead>\n",
              "  <tbody>\n",
              "    <tr>\n",
              "      <th>0</th>\n",
              "      <td>0.455</td>\n",
              "      <td>0.365</td>\n",
              "      <td>0.095</td>\n",
              "      <td>0.5140</td>\n",
              "      <td>0.2245</td>\n",
              "      <td>0.1010</td>\n",
              "      <td>0.150</td>\n",
              "      <td>1</td>\n",
              "      <td>False</td>\n",
              "      <td>True</td>\n",
              "    </tr>\n",
              "    <tr>\n",
              "      <th>1</th>\n",
              "      <td>0.350</td>\n",
              "      <td>0.265</td>\n",
              "      <td>0.090</td>\n",
              "      <td>0.2255</td>\n",
              "      <td>0.0995</td>\n",
              "      <td>0.0485</td>\n",
              "      <td>0.070</td>\n",
              "      <td>0</td>\n",
              "      <td>False</td>\n",
              "      <td>True</td>\n",
              "    </tr>\n",
              "    <tr>\n",
              "      <th>2</th>\n",
              "      <td>0.530</td>\n",
              "      <td>0.420</td>\n",
              "      <td>0.135</td>\n",
              "      <td>0.6770</td>\n",
              "      <td>0.2565</td>\n",
              "      <td>0.1415</td>\n",
              "      <td>0.210</td>\n",
              "      <td>0</td>\n",
              "      <td>False</td>\n",
              "      <td>False</td>\n",
              "    </tr>\n",
              "    <tr>\n",
              "      <th>3</th>\n",
              "      <td>0.440</td>\n",
              "      <td>0.365</td>\n",
              "      <td>0.125</td>\n",
              "      <td>0.5160</td>\n",
              "      <td>0.2155</td>\n",
              "      <td>0.1140</td>\n",
              "      <td>0.155</td>\n",
              "      <td>1</td>\n",
              "      <td>False</td>\n",
              "      <td>True</td>\n",
              "    </tr>\n",
              "    <tr>\n",
              "      <th>4</th>\n",
              "      <td>0.330</td>\n",
              "      <td>0.255</td>\n",
              "      <td>0.080</td>\n",
              "      <td>0.2050</td>\n",
              "      <td>0.0895</td>\n",
              "      <td>0.0395</td>\n",
              "      <td>0.055</td>\n",
              "      <td>0</td>\n",
              "      <td>True</td>\n",
              "      <td>False</td>\n",
              "    </tr>\n",
              "  </tbody>\n",
              "</table>\n",
              "</div>\n",
              "    <div class=\"colab-df-buttons\">\n",
              "\n",
              "  <div class=\"colab-df-container\">\n",
              "    <button class=\"colab-df-convert\" onclick=\"convertToInteractive('df-2bfc907d-29bf-4ee4-9e4e-b815c89cccac')\"\n",
              "            title=\"Convert this dataframe to an interactive table.\"\n",
              "            style=\"display:none;\">\n",
              "\n",
              "  <svg xmlns=\"http://www.w3.org/2000/svg\" height=\"24px\" viewBox=\"0 -960 960 960\">\n",
              "    <path d=\"M120-120v-720h720v720H120Zm60-500h600v-160H180v160Zm220 220h160v-160H400v160Zm0 220h160v-160H400v160ZM180-400h160v-160H180v160Zm440 0h160v-160H620v160ZM180-180h160v-160H180v160Zm440 0h160v-160H620v160Z\"/>\n",
              "  </svg>\n",
              "    </button>\n",
              "\n",
              "  <style>\n",
              "    .colab-df-container {\n",
              "      display:flex;\n",
              "      gap: 12px;\n",
              "    }\n",
              "\n",
              "    .colab-df-convert {\n",
              "      background-color: #E8F0FE;\n",
              "      border: none;\n",
              "      border-radius: 50%;\n",
              "      cursor: pointer;\n",
              "      display: none;\n",
              "      fill: #1967D2;\n",
              "      height: 32px;\n",
              "      padding: 0 0 0 0;\n",
              "      width: 32px;\n",
              "    }\n",
              "\n",
              "    .colab-df-convert:hover {\n",
              "      background-color: #E2EBFA;\n",
              "      box-shadow: 0px 1px 2px rgba(60, 64, 67, 0.3), 0px 1px 3px 1px rgba(60, 64, 67, 0.15);\n",
              "      fill: #174EA6;\n",
              "    }\n",
              "\n",
              "    .colab-df-buttons div {\n",
              "      margin-bottom: 4px;\n",
              "    }\n",
              "\n",
              "    [theme=dark] .colab-df-convert {\n",
              "      background-color: #3B4455;\n",
              "      fill: #D2E3FC;\n",
              "    }\n",
              "\n",
              "    [theme=dark] .colab-df-convert:hover {\n",
              "      background-color: #434B5C;\n",
              "      box-shadow: 0px 1px 3px 1px rgba(0, 0, 0, 0.15);\n",
              "      filter: drop-shadow(0px 1px 2px rgba(0, 0, 0, 0.3));\n",
              "      fill: #FFFFFF;\n",
              "    }\n",
              "  </style>\n",
              "\n",
              "    <script>\n",
              "      const buttonEl =\n",
              "        document.querySelector('#df-2bfc907d-29bf-4ee4-9e4e-b815c89cccac button.colab-df-convert');\n",
              "      buttonEl.style.display =\n",
              "        google.colab.kernel.accessAllowed ? 'block' : 'none';\n",
              "\n",
              "      async function convertToInteractive(key) {\n",
              "        const element = document.querySelector('#df-2bfc907d-29bf-4ee4-9e4e-b815c89cccac');\n",
              "        const dataTable =\n",
              "          await google.colab.kernel.invokeFunction('convertToInteractive',\n",
              "                                                    [key], {});\n",
              "        if (!dataTable) return;\n",
              "\n",
              "        const docLinkHtml = 'Like what you see? Visit the ' +\n",
              "          '<a target=\"_blank\" href=https://colab.research.google.com/notebooks/data_table.ipynb>data table notebook</a>'\n",
              "          + ' to learn more about interactive tables.';\n",
              "        element.innerHTML = '';\n",
              "        dataTable['output_type'] = 'display_data';\n",
              "        await google.colab.output.renderOutput(dataTable, element);\n",
              "        const docLink = document.createElement('div');\n",
              "        docLink.innerHTML = docLinkHtml;\n",
              "        element.appendChild(docLink);\n",
              "      }\n",
              "    </script>\n",
              "  </div>\n",
              "\n",
              "\n",
              "<div id=\"df-06cabfa2-5c52-4bef-ad26-0777f7544b17\">\n",
              "  <button class=\"colab-df-quickchart\" onclick=\"quickchart('df-06cabfa2-5c52-4bef-ad26-0777f7544b17')\"\n",
              "            title=\"Suggest charts\"\n",
              "            style=\"display:none;\">\n",
              "\n",
              "<svg xmlns=\"http://www.w3.org/2000/svg\" height=\"24px\"viewBox=\"0 0 24 24\"\n",
              "     width=\"24px\">\n",
              "    <g>\n",
              "        <path d=\"M19 3H5c-1.1 0-2 .9-2 2v14c0 1.1.9 2 2 2h14c1.1 0 2-.9 2-2V5c0-1.1-.9-2-2-2zM9 17H7v-7h2v7zm4 0h-2V7h2v10zm4 0h-2v-4h2v4z\"/>\n",
              "    </g>\n",
              "</svg>\n",
              "  </button>\n",
              "\n",
              "<style>\n",
              "  .colab-df-quickchart {\n",
              "      --bg-color: #E8F0FE;\n",
              "      --fill-color: #1967D2;\n",
              "      --hover-bg-color: #E2EBFA;\n",
              "      --hover-fill-color: #174EA6;\n",
              "      --disabled-fill-color: #AAA;\n",
              "      --disabled-bg-color: #DDD;\n",
              "  }\n",
              "\n",
              "  [theme=dark] .colab-df-quickchart {\n",
              "      --bg-color: #3B4455;\n",
              "      --fill-color: #D2E3FC;\n",
              "      --hover-bg-color: #434B5C;\n",
              "      --hover-fill-color: #FFFFFF;\n",
              "      --disabled-bg-color: #3B4455;\n",
              "      --disabled-fill-color: #666;\n",
              "  }\n",
              "\n",
              "  .colab-df-quickchart {\n",
              "    background-color: var(--bg-color);\n",
              "    border: none;\n",
              "    border-radius: 50%;\n",
              "    cursor: pointer;\n",
              "    display: none;\n",
              "    fill: var(--fill-color);\n",
              "    height: 32px;\n",
              "    padding: 0;\n",
              "    width: 32px;\n",
              "  }\n",
              "\n",
              "  .colab-df-quickchart:hover {\n",
              "    background-color: var(--hover-bg-color);\n",
              "    box-shadow: 0 1px 2px rgba(60, 64, 67, 0.3), 0 1px 3px 1px rgba(60, 64, 67, 0.15);\n",
              "    fill: var(--button-hover-fill-color);\n",
              "  }\n",
              "\n",
              "  .colab-df-quickchart-complete:disabled,\n",
              "  .colab-df-quickchart-complete:disabled:hover {\n",
              "    background-color: var(--disabled-bg-color);\n",
              "    fill: var(--disabled-fill-color);\n",
              "    box-shadow: none;\n",
              "  }\n",
              "\n",
              "  .colab-df-spinner {\n",
              "    border: 2px solid var(--fill-color);\n",
              "    border-color: transparent;\n",
              "    border-bottom-color: var(--fill-color);\n",
              "    animation:\n",
              "      spin 1s steps(1) infinite;\n",
              "  }\n",
              "\n",
              "  @keyframes spin {\n",
              "    0% {\n",
              "      border-color: transparent;\n",
              "      border-bottom-color: var(--fill-color);\n",
              "      border-left-color: var(--fill-color);\n",
              "    }\n",
              "    20% {\n",
              "      border-color: transparent;\n",
              "      border-left-color: var(--fill-color);\n",
              "      border-top-color: var(--fill-color);\n",
              "    }\n",
              "    30% {\n",
              "      border-color: transparent;\n",
              "      border-left-color: var(--fill-color);\n",
              "      border-top-color: var(--fill-color);\n",
              "      border-right-color: var(--fill-color);\n",
              "    }\n",
              "    40% {\n",
              "      border-color: transparent;\n",
              "      border-right-color: var(--fill-color);\n",
              "      border-top-color: var(--fill-color);\n",
              "    }\n",
              "    60% {\n",
              "      border-color: transparent;\n",
              "      border-right-color: var(--fill-color);\n",
              "    }\n",
              "    80% {\n",
              "      border-color: transparent;\n",
              "      border-right-color: var(--fill-color);\n",
              "      border-bottom-color: var(--fill-color);\n",
              "    }\n",
              "    90% {\n",
              "      border-color: transparent;\n",
              "      border-bottom-color: var(--fill-color);\n",
              "    }\n",
              "  }\n",
              "</style>\n",
              "\n",
              "  <script>\n",
              "    async function quickchart(key) {\n",
              "      const quickchartButtonEl =\n",
              "        document.querySelector('#' + key + ' button');\n",
              "      quickchartButtonEl.disabled = true;  // To prevent multiple clicks.\n",
              "      quickchartButtonEl.classList.add('colab-df-spinner');\n",
              "      try {\n",
              "        const charts = await google.colab.kernel.invokeFunction(\n",
              "            'suggestCharts', [key], {});\n",
              "      } catch (error) {\n",
              "        console.error('Error during call to suggestCharts:', error);\n",
              "      }\n",
              "      quickchartButtonEl.classList.remove('colab-df-spinner');\n",
              "      quickchartButtonEl.classList.add('colab-df-quickchart-complete');\n",
              "    }\n",
              "    (() => {\n",
              "      let quickchartButtonEl =\n",
              "        document.querySelector('#df-06cabfa2-5c52-4bef-ad26-0777f7544b17 button');\n",
              "      quickchartButtonEl.style.display =\n",
              "        google.colab.kernel.accessAllowed ? 'block' : 'none';\n",
              "    })();\n",
              "  </script>\n",
              "</div>\n",
              "\n",
              "    </div>\n",
              "  </div>\n"
            ],
            "application/vnd.google.colaboratory.intrinsic+json": {
              "type": "dataframe",
              "variable_name": "data",
              "summary": "{\n  \"name\": \"data\",\n  \"rows\": 4177,\n  \"fields\": [\n    {\n      \"column\": \"LongestShell\",\n      \"properties\": {\n        \"dtype\": \"number\",\n        \"std\": 0.12009291256479956,\n        \"min\": 0.075,\n        \"max\": 0.815,\n        \"num_unique_values\": 134,\n        \"samples\": [\n          0.815,\n          0.65,\n          0.29\n        ],\n        \"semantic_type\": \"\",\n        \"description\": \"\"\n      }\n    },\n    {\n      \"column\": \"Diameter\",\n      \"properties\": {\n        \"dtype\": \"number\",\n        \"std\": 0.09923986613365945,\n        \"min\": 0.055,\n        \"max\": 0.65,\n        \"num_unique_values\": 111,\n        \"samples\": [\n          0.09,\n          0.35,\n          0.3\n        ],\n        \"semantic_type\": \"\",\n        \"description\": \"\"\n      }\n    },\n    {\n      \"column\": \"Height\",\n      \"properties\": {\n        \"dtype\": \"number\",\n        \"std\": 0.041827056607257274,\n        \"min\": 0.0,\n        \"max\": 1.13,\n        \"num_unique_values\": 51,\n        \"samples\": [\n          0.235,\n          0.035,\n          0.015\n        ],\n        \"semantic_type\": \"\",\n        \"description\": \"\"\n      }\n    },\n    {\n      \"column\": \"WholeWeight\",\n      \"properties\": {\n        \"dtype\": \"number\",\n        \"std\": 0.4903890182309977,\n        \"min\": 0.002,\n        \"max\": 2.8255,\n        \"num_unique_values\": 2429,\n        \"samples\": [\n          1.2825,\n          1.09,\n          0.131\n        ],\n        \"semantic_type\": \"\",\n        \"description\": \"\"\n      }\n    },\n    {\n      \"column\": \"ShuckedWeight\",\n      \"properties\": {\n        \"dtype\": \"number\",\n        \"std\": 0.2219629490332201,\n        \"min\": 0.001,\n        \"max\": 1.4880000000000002,\n        \"num_unique_values\": 1515,\n        \"samples\": [\n          0.2105,\n          0.0645,\n          0.476\n        ],\n        \"semantic_type\": \"\",\n        \"description\": \"\"\n      }\n    },\n    {\n      \"column\": \"VisceraWeight\",\n      \"properties\": {\n        \"dtype\": \"number\",\n        \"std\": 0.10961425025968446,\n        \"min\": 0.0005,\n        \"max\": 0.76,\n        \"num_unique_values\": 880,\n        \"samples\": [\n          0.0645,\n          0.0095,\n          0.1115\n        ],\n        \"semantic_type\": \"\",\n        \"description\": \"\"\n      }\n    },\n    {\n      \"column\": \"ShellWeight\",\n      \"properties\": {\n        \"dtype\": \"number\",\n        \"std\": 0.1392026695223861,\n        \"min\": 0.0015,\n        \"max\": 1.005,\n        \"num_unique_values\": 926,\n        \"samples\": [\n          0.3745,\n          0.2825,\n          0.49\n        ],\n        \"semantic_type\": \"\",\n        \"description\": \"\"\n      }\n    },\n    {\n      \"column\": \"Rings\",\n      \"properties\": {\n        \"dtype\": \"number\",\n        \"std\": 0,\n        \"min\": 0,\n        \"max\": 1,\n        \"num_unique_values\": 2,\n        \"samples\": [\n          0,\n          1\n        ],\n        \"semantic_type\": \"\",\n        \"description\": \"\"\n      }\n    },\n    {\n      \"column\": \"Type_I\",\n      \"properties\": {\n        \"dtype\": \"boolean\",\n        \"num_unique_values\": 2,\n        \"samples\": [\n          true,\n          false\n        ],\n        \"semantic_type\": \"\",\n        \"description\": \"\"\n      }\n    },\n    {\n      \"column\": \"Type_M\",\n      \"properties\": {\n        \"dtype\": \"boolean\",\n        \"num_unique_values\": 2,\n        \"samples\": [\n          false,\n          true\n        ],\n        \"semantic_type\": \"\",\n        \"description\": \"\"\n      }\n    }\n  ]\n}"
            }
          },
          "metadata": {},
          "execution_count": 38
        }
      ]
    },
    {
      "cell_type": "markdown",
      "source": [
        "### Separação das Variáveis Independentes e Dependentes\n",
        "\n",
        "Agora, vamos separar as variáveis independentes (`X`) da variável dependente (`y`), e em seguida dividir os dados em conjuntos de treino e teste.\n"
      ],
      "metadata": {
        "id": "7yWnIsnYnDyX"
      }
    },
    {
      "cell_type": "markdown",
      "source": [
        "Separação das Variáveis e Divisão do Conjunto de Dados\n"
      ],
      "metadata": {
        "id": "JxCj69MLnM8l"
      }
    },
    {
      "cell_type": "code",
      "source": [
        "# Separação das variáveis independentes e dependentes\n",
        "X = data.drop('Rings', axis=1)\n",
        "y = data['Rings']\n",
        "\n",
        "# Dividindo o dataset em conjunto de treino e teste\n",
        "X_train, X_test, y_train, y_test = train_test_split(X, y, test_size=0.3, random_state=42)"
      ],
      "metadata": {
        "id": "9kKcb07pnJqN"
      },
      "execution_count": null,
      "outputs": []
    },
    {
      "cell_type": "markdown",
      "source": [
        "### Normalização dos Dados\n",
        "\n",
        "Nesta etapa, vamos normalizar as features utilizando `StandardScaler` para que todas as variáveis tenham a mesma escala, o que ajuda no desempenho do modelo.\n"
      ],
      "metadata": {
        "id": "BUCBLVC7nSw8"
      }
    },
    {
      "cell_type": "code",
      "source": [
        "# Normalização dos dados\n",
        "scaler = StandardScaler()\n",
        "X_train = scaler.fit_transform(X_train)\n",
        "X_test = scaler.transform(X_test)\n"
      ],
      "metadata": {
        "id": "hJaCS4xLnUKD"
      },
      "execution_count": null,
      "outputs": []
    },
    {
      "cell_type": "markdown",
      "source": [
        "### Construção do Modelo Keras\n",
        "\n",
        "Vamos construir um modelo sequencial simples com uma única camada densa que possui uma unidade com função de ativação `sigmoid`.\n"
      ],
      "metadata": {
        "id": "A9TRCL4jnZxb"
      }
    },
    {
      "cell_type": "markdown",
      "source": [
        "Construção do Modelo"
      ],
      "metadata": {
        "id": "sbbyVa7Unc-9"
      }
    },
    {
      "cell_type": "code",
      "source": [
        "# Definindo o modelo sequencial\n",
        "model = Sequential()\n",
        "model.add(Dense(1, input_dim=X_train.shape[1], activation='sigmoid'))"
      ],
      "metadata": {
        "id": "Qr6URheLnagh"
      },
      "execution_count": null,
      "outputs": []
    },
    {
      "cell_type": "markdown",
      "source": [
        "### Compilação do Modelo\n",
        "\n",
        "Agora, vamos compilar o modelo utilizando o otimizador `Adam`, a função de perda `binary_crossentropy`, e a métrica `accuracy`.\n"
      ],
      "metadata": {
        "id": "gq7xTY_ZnjVB"
      }
    },
    {
      "cell_type": "code",
      "source": [
        "# Compilando o modelo\n",
        "model.compile(optimizer=Adam(), loss='binary_crossentropy', metrics=['accuracy'])"
      ],
      "metadata": {
        "id": "NoiFlquunkA-"
      },
      "execution_count": null,
      "outputs": []
    },
    {
      "cell_type": "markdown",
      "source": [
        "### Treinamento do Modelo\n",
        "\n",
        "Vamos treinar o modelo por 50 épocas com um batch size de 10.\n"
      ],
      "metadata": {
        "id": "g-6BCUWZnrAS"
      }
    },
    {
      "cell_type": "markdown",
      "source": [
        "Treinamento do Modelo"
      ],
      "metadata": {
        "id": "EaMj8mrTnuUz"
      }
    },
    {
      "cell_type": "code",
      "source": [
        "# Treinando o modelo\n",
        "model.fit(X_train, y_train, epochs=50, batch_size=10, verbose=1)"
      ],
      "metadata": {
        "colab": {
          "base_uri": "https://localhost:8080/"
        },
        "id": "-KEloALBnrmn",
        "outputId": "c574a153-25c8-4add-d994-0ee1de8d93a4"
      },
      "execution_count": null,
      "outputs": [
        {
          "output_type": "stream",
          "name": "stdout",
          "text": [
            "Epoch 1/50\n",
            "293/293 [==============================] - 1s 2ms/step - loss: 0.5167 - accuracy: 0.7629\n",
            "Epoch 2/50\n",
            "293/293 [==============================] - 1s 2ms/step - loss: 0.4891 - accuracy: 0.7622\n",
            "Epoch 3/50\n",
            "293/293 [==============================] - 0s 2ms/step - loss: 0.4834 - accuracy: 0.7626\n",
            "Epoch 4/50\n",
            "293/293 [==============================] - 1s 2ms/step - loss: 0.4794 - accuracy: 0.7629\n",
            "Epoch 5/50\n",
            "293/293 [==============================] - 0s 2ms/step - loss: 0.4763 - accuracy: 0.7636\n",
            "Epoch 6/50\n",
            "293/293 [==============================] - 1s 2ms/step - loss: 0.4736 - accuracy: 0.7643\n",
            "Epoch 7/50\n",
            "293/293 [==============================] - 0s 2ms/step - loss: 0.4715 - accuracy: 0.7660\n",
            "Epoch 8/50\n",
            "293/293 [==============================] - 0s 2ms/step - loss: 0.4696 - accuracy: 0.7677\n",
            "Epoch 9/50\n",
            "293/293 [==============================] - 0s 2ms/step - loss: 0.4682 - accuracy: 0.7691\n",
            "Epoch 10/50\n",
            "293/293 [==============================] - 1s 2ms/step - loss: 0.4668 - accuracy: 0.7687\n",
            "Epoch 11/50\n",
            "293/293 [==============================] - 0s 2ms/step - loss: 0.4653 - accuracy: 0.7698\n",
            "Epoch 12/50\n",
            "293/293 [==============================] - 0s 2ms/step - loss: 0.4644 - accuracy: 0.7698\n",
            "Epoch 13/50\n",
            "293/293 [==============================] - 1s 2ms/step - loss: 0.4634 - accuracy: 0.7704\n",
            "Epoch 14/50\n",
            "293/293 [==============================] - 1s 3ms/step - loss: 0.4626 - accuracy: 0.7708\n",
            "Epoch 15/50\n",
            "293/293 [==============================] - 1s 2ms/step - loss: 0.4616 - accuracy: 0.7704\n",
            "Epoch 16/50\n",
            "293/293 [==============================] - 1s 2ms/step - loss: 0.4610 - accuracy: 0.7728\n",
            "Epoch 17/50\n",
            "293/293 [==============================] - 1s 3ms/step - loss: 0.4604 - accuracy: 0.7745\n",
            "Epoch 18/50\n",
            "293/293 [==============================] - 1s 3ms/step - loss: 0.4596 - accuracy: 0.7735\n",
            "Epoch 19/50\n",
            "293/293 [==============================] - 1s 3ms/step - loss: 0.4590 - accuracy: 0.7749\n",
            "Epoch 20/50\n",
            "293/293 [==============================] - 1s 2ms/step - loss: 0.4586 - accuracy: 0.7745\n",
            "Epoch 21/50\n",
            "293/293 [==============================] - 0s 2ms/step - loss: 0.4581 - accuracy: 0.7742\n",
            "Epoch 22/50\n",
            "293/293 [==============================] - 0s 2ms/step - loss: 0.4574 - accuracy: 0.7739\n",
            "Epoch 23/50\n",
            "293/293 [==============================] - 0s 2ms/step - loss: 0.4571 - accuracy: 0.7752\n",
            "Epoch 24/50\n",
            "293/293 [==============================] - 0s 2ms/step - loss: 0.4566 - accuracy: 0.7742\n",
            "Epoch 25/50\n",
            "293/293 [==============================] - 0s 2ms/step - loss: 0.4563 - accuracy: 0.7752\n",
            "Epoch 26/50\n",
            "293/293 [==============================] - 0s 2ms/step - loss: 0.4559 - accuracy: 0.7745\n",
            "Epoch 27/50\n",
            "293/293 [==============================] - 0s 2ms/step - loss: 0.4556 - accuracy: 0.7756\n",
            "Epoch 28/50\n",
            "293/293 [==============================] - 0s 2ms/step - loss: 0.4551 - accuracy: 0.7745\n",
            "Epoch 29/50\n",
            "293/293 [==============================] - 0s 2ms/step - loss: 0.4548 - accuracy: 0.7735\n",
            "Epoch 30/50\n",
            "293/293 [==============================] - 0s 2ms/step - loss: 0.4545 - accuracy: 0.7749\n",
            "Epoch 31/50\n",
            "293/293 [==============================] - 1s 2ms/step - loss: 0.4543 - accuracy: 0.7752\n",
            "Epoch 32/50\n",
            "293/293 [==============================] - 0s 2ms/step - loss: 0.4540 - accuracy: 0.7745\n",
            "Epoch 33/50\n",
            "293/293 [==============================] - 0s 2ms/step - loss: 0.4537 - accuracy: 0.7759\n",
            "Epoch 34/50\n",
            "293/293 [==============================] - 0s 2ms/step - loss: 0.4535 - accuracy: 0.7749\n",
            "Epoch 35/50\n",
            "293/293 [==============================] - 0s 2ms/step - loss: 0.4532 - accuracy: 0.7752\n",
            "Epoch 36/50\n",
            "293/293 [==============================] - 0s 2ms/step - loss: 0.4531 - accuracy: 0.7752\n",
            "Epoch 37/50\n",
            "293/293 [==============================] - 1s 2ms/step - loss: 0.4528 - accuracy: 0.7752\n",
            "Epoch 38/50\n",
            "293/293 [==============================] - 0s 2ms/step - loss: 0.4528 - accuracy: 0.7745\n",
            "Epoch 39/50\n",
            "293/293 [==============================] - 1s 2ms/step - loss: 0.4525 - accuracy: 0.7766\n",
            "Epoch 40/50\n",
            "293/293 [==============================] - 1s 2ms/step - loss: 0.4523 - accuracy: 0.7763\n",
            "Epoch 41/50\n",
            "293/293 [==============================] - 1s 2ms/step - loss: 0.4520 - accuracy: 0.7769\n",
            "Epoch 42/50\n",
            "293/293 [==============================] - 1s 2ms/step - loss: 0.4518 - accuracy: 0.7763\n",
            "Epoch 43/50\n",
            "293/293 [==============================] - 1s 2ms/step - loss: 0.4516 - accuracy: 0.7759\n",
            "Epoch 44/50\n",
            "293/293 [==============================] - 1s 2ms/step - loss: 0.4514 - accuracy: 0.7769\n",
            "Epoch 45/50\n",
            "293/293 [==============================] - 1s 2ms/step - loss: 0.4513 - accuracy: 0.7780\n",
            "Epoch 46/50\n",
            "293/293 [==============================] - 1s 3ms/step - loss: 0.4512 - accuracy: 0.7766\n",
            "Epoch 47/50\n",
            "293/293 [==============================] - 1s 2ms/step - loss: 0.4510 - accuracy: 0.7776\n",
            "Epoch 48/50\n",
            "293/293 [==============================] - 0s 2ms/step - loss: 0.4509 - accuracy: 0.7773\n",
            "Epoch 49/50\n",
            "293/293 [==============================] - 0s 2ms/step - loss: 0.4507 - accuracy: 0.7776\n",
            "Epoch 50/50\n",
            "293/293 [==============================] - 0s 2ms/step - loss: 0.4507 - accuracy: 0.7780\n"
          ]
        },
        {
          "output_type": "execute_result",
          "data": {
            "text/plain": [
              "<keras.src.callbacks.History at 0x7e200668b910>"
            ]
          },
          "metadata": {},
          "execution_count": 43
        }
      ]
    },
    {
      "cell_type": "markdown",
      "source": [
        "### Previsão e Avaliação do Modelo\n",
        "\n",
        "Após o treinamento, utilizaremos o modelo para prever os rótulos do conjunto de teste e calcular a acurácia e o F1 Score.\n"
      ],
      "metadata": {
        "id": "LcXabzWRoP7g"
      }
    },
    {
      "cell_type": "code",
      "source": [
        "# Prevendo os rótulos do conjunto de teste\n",
        "y_pred = model.predict(X_test)\n",
        "y_pred_classes = (y_pred > 0.5).astype(\"int32\")\n",
        "\n",
        "# Avaliando o desempenho\n",
        "accuracy = accuracy_score(y_test, y_pred_classes)\n",
        "f1 = f1_score(y_test, y_pred_classes)\n",
        "\n",
        "print(f'Accuracy: {accuracy}')\n",
        "print(f'F1 Score: {f1}')\n"
      ],
      "metadata": {
        "colab": {
          "base_uri": "https://localhost:8080/"
        },
        "id": "2CliPSMsoQoR",
        "outputId": "d792b035-4852-4bd5-f0ff-9e78d60450b2"
      },
      "execution_count": null,
      "outputs": [
        {
          "output_type": "stream",
          "name": "stdout",
          "text": [
            "40/40 [==============================] - 0s 2ms/step\n",
            "Accuracy: 0.7934609250398724\n",
            "F1 Score: 0.7871815940838126\n"
          ]
        }
      ]
    },
    {
      "cell_type": "markdown",
      "source": [
        "### Interpretação dos Resultados\n",
        "\n",
        "Finalmente, vamos discutir os resultados obtidos, interpretando as métricas de acurácia e F1 Score e explorando possíveis melhorias no modelo.\n"
      ],
      "metadata": {
        "id": "FGjYlrzxob6O"
      }
    }
  ]
}